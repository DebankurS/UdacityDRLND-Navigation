{
 "cells": [
  {
   "cell_type": "markdown",
   "metadata": {},
   "source": [
    "# Deep Reinforcement Learning - Navigation\n",
    "\n"
   ]
  },
  {
   "cell_type": "markdown",
   "metadata": {},
   "source": [
    "\n",
    "\n",
    "# Overview"
   ]
  },
  {
   "cell_type": "markdown",
   "metadata": {},
   "source": [
    "The goal of this project is to train an agent to achieve an average reward of atleast +13 over 100 consecutive episodes in the provided environment.\n",
    "\n",
    "The environment provided is that of a Unity ML Agents scenario.\n",
    "\n",
    "A reward of +1 is provided for collecting a yellow banana, and a reward of -1 is provided for collecting a blue banana. Thus, the goal of your agent is to collect as many yellow bananas as possible while avoiding blue bananas.\n",
    "\n",
    "The state space has 37 dimensions and contains the agent's velocity, along with ray-based perception of objects around the agent's forward direction. Given this information, the agent has to learn how to best select actions. Four discrete actions are available, corresponding to:\n",
    "\n",
    "* 0 - move forward.\n",
    "* 1 - move backward.\n",
    "* 2 - turn left.\n",
    "* 3 - turn right.\n"
   ]
  },
  {
   "cell_type": "markdown",
   "metadata": {},
   "source": [
    "# Implementation"
   ]
  },
  {
   "cell_type": "markdown",
   "metadata": {},
   "source": [
    "The project was solved using Deep Reinforcement Learning using a Deep Q-Network.\n",
    "\n",
    "The base code of the project is derived from the solution provided in Udacity Deep Learning Nanodegree Github repo for solving the lunar lander scenario from OpenAI Gym.\n",
    "\n",
    "https://github.com/udacity/deep-reinforcement-learning/tree/master/dqn\n",
    "\n",
    "The same solution was modified and updated for the Unity ML Agents environment provided.\n",
    "\n",
    "* The notebook **Navigation.ipynb** contains the implementation for training and visualising the untrained agent initially. Then the training code is implemented and at the end we can visualize the Trained agent working on the provided environment.\n",
    "\n",
    "* **dqn_agent.py** contains the code to understand and determine how the agent interacts with the environment and learns to optimize the reward.\n",
    "\n",
    "* **model.py** contains the architecture of the deep learning model used in this implementation.\n"
   ]
  },
  {
   "cell_type": "markdown",
   "metadata": {},
   "source": [
    "# Learning Algorithm"
   ]
  },
  {
   "cell_type": "markdown",
   "metadata": {},
   "source": [
    "The Deep Q-Learning algorithm(DQN) was chosen to solve the agent-environment interaction.\n",
    "\n",
    "Q-Learning is one form of TD(Temporal Difference) Learning which enables us to update the Q-table at every timestep. In Deep Q-Learning, a neural network is used as a function approximator to map the relationship between the states and actions and returns the respective Q-Values for every state-action pair.\n",
    "\n",
    "### Experience Replay and Fixed Q-Targets\n",
    "Using the general DQN Algorithm the experiences are stored in the form of (State,Action,Values,Next_State) tuples. But this can cause a lot of correlation between the sequences if the agent learns while interacting.\n",
    "\n",
    "To get rid of this issue, we separate the training and interaction loops into two different networks called the target and local network. This is using Fixed Q-Targets.\n",
    "\n",
    "The local network interacts with the environment and stores its experiences in a buffer.\n",
    "At every predefined set of intervals, the target network gets a random sample of predefined size from the buffer and learns from it. This implementation is called Experience Replay.\n",
    "\n",
    "The local network can then determine in a Supervised Learning fashion by comparing its outputs with that of the target network and compute the loss, hence \"learning\" better.\n",
    "\n",
    "### Sync the local and target network\n",
    "Once the local network learns form the replay buffer, the model parameters of the target network are updated with that of the local network with respect to the relationship below\n",
    "\n",
    "θ_target = τ*θ_local + (1 - τ)*θ_target\n",
    "\n",
    "### Model Architecture\n",
    "The Deep Learning Model used here is a Multilayer Perceptron which returns the Q-values for every state-action value pair. It is defined in the file model.py\n",
    "\n",
    "* The model has 2 fully connected layers with 64 nodes.\n",
    "* It takes in an input equal to the state size provided which in this case is 37\n",
    "* Relu activation function is used betweeen the two layers\n",
    "* Adam optimizer and Mean-Squared Error loss is used by the neural network to \"learn\"\n",
    "\n",
    "### Agent\n",
    "\n",
    "The agent is defined in the agent.py file. It is the Deep Q-Learning agent which interacts with the environment. It references the local and target network from the model defined in model.py.\n",
    "\n",
    "It contains four methods:\n",
    "\n",
    "**Step**: Here the agent saves the experiences in the replay memory. After a certain set of predefined intervals, it also causes the network to learn from the replay buffer.\n",
    "\n",
    "**Act**: Here the agent returns the actions based on the current policy using Epsilon-Greedy Action Selection\n",
    "\n",
    "**Learn**: This is where the agent actually learns. We randomly sample a batch from the experience buffer in the form of (states, actions, rewards, next_states, dones) and pass on the next state to the current target network and from there we compute the current Q-Values for the current states.\n",
    "Then using the same states, we obtain the expected Q-values for the local network.\n",
    "Comparing these two sets of Q-Values we obtain the losses and update the local network parameters in a Supervised Learning fashion.\n",
    "\n",
    "Then we run the soft_update function to update the target network with the local network parameters\n",
    "\n",
    "**Soft_update**: Here we update the target network with the local network parameters using the formula\n",
    "                    \n",
    "                    θ_target = τ*θ_local + (1 - τ)*θ_target\n",
    "\n",
    "### Hyperparameters\n",
    "\n",
    "The hyperparameters used to train the agent are:\n",
    "\n",
    "\n",
    "* BUFFER_SIZE = int(1e5)  # replay buffer size\n",
    "* BATCH_SIZE = 128         # minibatch size\n",
    "* GAMMA = 0.99            # discount factor\n",
    "* TAU = 1e-3              # for soft update of target parameters\n",
    "* LR = 5e-4               # learning rate \n",
    "* UPDATE_EVERY = 4        # how often to update the network"
   ]
  },
  {
   "cell_type": "markdown",
   "metadata": {},
   "source": [
    "# Plot of Rewards\n",
    "\n",
    "The plot of average rewards for every 100 episodes are listed below.\n",
    "\n",
    "* Episode 100\tAverage Score: 0.75\n",
    "* Episode 200\tAverage Score: 3.84\n",
    "* Episode 300\tAverage Score: 7.69\n",
    "* Episode 400\tAverage Score: 9.98\n",
    "* Episode 470\tAverage Score: 13.00\n",
    "\n",
    "Environment solved in 470 episodes!\tAverage Score: 13.00\n",
    "\n",
    "![Image](data:image/png;base64,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%0A)"
   ]
  },
  {
   "cell_type": "markdown",
   "metadata": {},
   "source": [
    "## Ideas for Future Work\n",
    "\n",
    "The Reinforcement Learning agent was trained using Deep Q network using Experience Replay and Fixed Q targets\n",
    "\n",
    "* Using the existing methodology, the hyperparameters can definitely be tuned to get a faster response and higher rewards.\n",
    "* Other methodologies can include using [Double DQN](https://arxiv.org/abs/1509.06461), [Prioritized Experience Replay](https://arxiv.org/abs/1511.05952) or using [Duelling DQN](https://arxiv.org/abs/1511.06581)\n",
    "* There are many more modifications to the DQN Algorithm, many of which are incorporated in the [Rainbow DQN](https://arxiv.org/abs/1710.02298) implementation which includes a total of 6 modifications to the traditional DQN algorithm"
   ]
  },
  {
   "cell_type": "code",
   "execution_count": null,
   "metadata": {},
   "outputs": [],
   "source": []
  }
 ],
 "metadata": {
  "kernelspec": {
   "display_name": "Python 3",
   "language": "python",
   "name": "python3"
  },
  "language_info": {
   "codemirror_mode": {
    "name": "ipython",
    "version": 3
   },
   "file_extension": ".py",
   "mimetype": "text/x-python",
   "name": "python",
   "nbconvert_exporter": "python",
   "pygments_lexer": "ipython3",
   "version": "3.6.9"
  }
 },
 "nbformat": 4,
 "nbformat_minor": 4
}
